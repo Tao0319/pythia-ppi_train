{
 "cells": [
  {
   "cell_type": "code",
   "execution_count": 7,
   "metadata": {},
   "outputs": [],
   "source": [
    "import pandas as pd \n",
    "df = pd.read_csv('/data2/taofangting/Pythia-ppi_train/data/skempi_filter.csv')\n",
    "df = df[['pdb_id', 'Mutation(s)_cleaned', 'ddG']]\n",
    "df.rename(columns={'Mutation(s)_cleaned': 'mutation'}, inplace=True)\n",
    "df.to_csv('skempi.csv', index=False)"
   ]
  }
 ],
 "metadata": {
  "kernelspec": {
   "display_name": "stapedia",
   "language": "python",
   "name": "python3"
  },
  "language_info": {
   "codemirror_mode": {
    "name": "ipython",
    "version": 3
   },
   "file_extension": ".py",
   "mimetype": "text/x-python",
   "name": "python",
   "nbconvert_exporter": "python",
   "pygments_lexer": "ipython3",
   "version": "3.9.12"
  }
 },
 "nbformat": 4,
 "nbformat_minor": 2
}
